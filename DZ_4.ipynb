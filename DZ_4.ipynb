{
 "cells": [
  {
   "cell_type": "code",
   "execution_count": 48,
   "id": "16709cf1-c2c7-406a-bac8-e54227d337f7",
   "metadata": {},
   "outputs": [],
   "source": [
    "import re as r\n",
    "\n",
    "def is_valid_car_num():\n",
    "    nomer = input('Введите гос.номер автомобиля: ')\n",
    "    pattern = r\"^[АВЕКМНОРСТУХ]\\d{3}[АВЕКМНОРСТУХ]{2}\\d{2,3}\"\n",
    "    return print(f'Номер {nomer[:6]} валиден. Регион {nomer[6:]}' if r.fullmatch(pattern, nomer) else 'Номер не валиден')\n",
    "    "
   ]
  },
  {
   "cell_type": "code",
   "execution_count": null,
   "id": "e81a6359-0a33-43e8-a206-b8953c17befd",
   "metadata": {},
   "outputs": [],
   "source": [
    "is_valid_car_num()\n",
    "\n"
   ]
  },
  {
   "cell_type": "code",
   "execution_count": null,
   "id": "75e40a00-9304-4615-bbd3-c77d178c94b6",
   "metadata": {},
   "outputs": [],
   "source": []
  }
 ],
 "metadata": {
  "kernelspec": {
   "display_name": "Python 3 (ipykernel)",
   "language": "python",
   "name": "python3"
  },
  "language_info": {
   "codemirror_mode": {
    "name": "ipython",
    "version": 3
   },
   "file_extension": ".py",
   "mimetype": "text/x-python",
   "name": "python",
   "nbconvert_exporter": "python",
   "pygments_lexer": "ipython3",
   "version": "3.12.4"
  }
 },
 "nbformat": 4,
 "nbformat_minor": 5
}
