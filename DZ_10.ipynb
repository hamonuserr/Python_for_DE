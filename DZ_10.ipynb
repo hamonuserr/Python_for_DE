{
 "cells": [
  {
   "cell_type": "code",
   "execution_count": 135,
   "metadata": {},
   "outputs": [],
   "source": [
    "from pyspark.sql import SparkSession\n",
    "from pyspark.sql.types import StringType, StructType, IntegerType, DateType, StructField"
   ]
  },
  {
   "cell_type": "code",
   "execution_count": 136,
   "metadata": {},
   "outputs": [],
   "source": [
    "csv_path = '.'"
   ]
  },
  {
   "cell_type": "code",
   "execution_count": 137,
   "metadata": {},
   "outputs": [],
   "source": [
    "spark = SparkSession.builder \\\n",
    "    .appName(\"spark_first\") \\\n",
    "    .getOrCreate()"
   ]
  },
  {
   "cell_type": "code",
   "execution_count": 138,
   "metadata": {},
   "outputs": [],
   "source": [
    "import pandas as pd\n",
    "from sdv.metadata import Metadata\n",
    "df = pd.read_csv('electronic_devices.csv')\n",
    "metadata = Metadata.detect_from_dataframe(\n",
    "    data=df,\n",
    "    table_name='electronic_devices`')"
   ]
  },
  {
   "cell_type": "code",
   "execution_count": 139,
   "metadata": {},
   "outputs": [
    {
     "name": "stderr",
     "output_type": "stream",
     "text": [
      "c:\\Users\\Илья\\AppData\\Local\\Programs\\Python\\Python310\\lib\\site-packages\\sdv\\single_table\\base.py:104: UserWarning: We strongly recommend saving the metadata using 'save_to_json' for replicability in future SDV versions.\n",
      "  warnings.warn(\n"
     ]
    }
   ],
   "source": [
    "from sdv.single_table import GaussianCopulaSynthesizer\n",
    "model = GaussianCopulaSynthesizer(metadata)\n",
    "model.fit(df)\n",
    "synthetic_data = model.sample(num_rows=1000_000)\n"
   ]
  },
  {
   "cell_type": "code",
   "execution_count": 140,
   "metadata": {},
   "outputs": [
    {
     "name": "stdout",
     "output_type": "stream",
     "text": [
      "customer_id         int64\n",
      "age                 int64\n",
      "gender             object\n",
      "loyalty_member     object\n",
      "product_type       object\n",
      "sku                object\n",
      "rating              int64\n",
      "order_status       object\n",
      "payment_method     object\n",
      "total_price       float64\n",
      "unit_price        float64\n",
      "quantity            int64\n",
      "purchase_date      object\n",
      "shipping_type      object\n",
      "addons             object\n",
      "addons_cnt        float64\n",
      "dtype: object\n"
     ]
    }
   ],
   "source": [
    "print(synthetic_data.dtypes)"
   ]
  },
  {
   "cell_type": "code",
   "execution_count": 141,
   "metadata": {},
   "outputs": [],
   "source": [
    "from pyspark.sql.types import StructType, StructField, IntegerType, StringType, FloatType, DateType\n",
    "synthetic_data['purchase_date'] = pd.to_datetime(synthetic_data['purchase_date']).dt.date\n",
    "# Определение схемы для Spark DataFrame\n",
    "schema = StructType([\n",
    "    StructField(\"customer_id\", IntegerType(), True),\n",
    "    StructField(\"age\", IntegerType(), True),\n",
    "    StructField(\"gender\", StringType(), True),\n",
    "    StructField(\"loyalty_member\", StringType(), True),\n",
    "    StructField(\"product_type\", StringType(), True),\n",
    "    StructField(\"sku\", StringType(), True),\n",
    "    StructField(\"rating\", IntegerType(), True),\n",
    "    StructField(\"order_status\", StringType(), True),\n",
    "    StructField(\"payment_method\", StringType(), True),\n",
    "    StructField(\"total_price\", FloatType(), True),\n",
    "    StructField(\"unit_price\", FloatType(), True),\n",
    "    StructField(\"quantity\", IntegerType(), True),\n",
    "    StructField(\"purchase_date\", DateType(), True),\n",
    "    StructField(\"shipping_type\", StringType(), True),\n",
    "    StructField(\"addons\", StringType(), True),\n",
    "    StructField(\"addons_cnt\", FloatType(), True)\n",
    "])\n",
    "\n",
    "# Создание Spark DataFrame с заданной схемой\n",
    "spark_df = spark.createDataFrame(synthetic_data, schema=schema)\n"
   ]
  },
  {
   "cell_type": "code",
   "execution_count": null,
   "metadata": {},
   "outputs": [
    {
     "name": "stdout",
     "output_type": "stream",
     "text": [
      "+-----------+---+------+--------------+------------+-------+------+------------+--------------+-----------+----------+--------+-------------+-------------+-----------------+----------+\n",
      "|customer_id|age|gender|loyalty_member|product_type|    sku|rating|order_status|payment_method|total_price|unit_price|quantity|purchase_date|shipping_type|           addons|addons_cnt|\n",
      "+-----------+---+------+--------------+------------+-------+------+------------+--------------+-----------+----------+--------+-------------+-------------+-----------------+----------+\n",
      "|      15470| 28|  Male|            No|  Smartphone|SKU1005|     2|   Cancelled|        Paypal|    1622.39|   1095.89|       8|   2024-09-03|    Overnight|     Impulse Item|       0.0|\n",
      "|      15560| 47|  Male|           Yes|      Laptop| LTP123|     2|   Completed|        PayPal|    11396.8|   1138.94|       2|   2024-09-03|      Express|Extended Warranty|      4.38|\n",
      "|      16142| 24|  Male|            No|  Headphones| TBL345|     5|   Completed|        PayPal|    2268.75|   1027.48|       2|   2024-09-03|     Standard|Extended Warranty|      0.01|\n",
      "|      10173| 53|Female|            No|      Tablet| LTP123|     1|   Completed|          Cash|     536.23|    632.11|       5|   2024-09-03|     Standard|Extended Warranty|      1.57|\n",
      "|       8990| 64|  Male|           Yes|  Smartphone|SKU1003|     3|   Cancelled|   Credit Card|    1516.04|    801.35|      10|   2024-09-03|     Standard|Extended Warranty|      1.11|\n",
      "|       4350| 19|Female|            No|      Laptop|SKU1004|     2|   Completed|   Credit Card|     986.51|    870.61|       2|   2024-09-03|     Standard|     Impulse Item|      0.13|\n",
      "+-----------+---+------+--------------+------------+-------+------+------------+--------------+-----------+----------+--------+-------------+-------------+-----------------+----------+\n",
      "only showing top 6 rows\n",
      "\n"
     ]
    }
   ],
   "source": [
    "from pyspark.sql import functions as F\n",
    "\n",
    "df = spark_df\\\n",
    "    .filter(F.col('purchase_date') == '2024-09-03') \\\n",
    "    .filter(F.size(F.split(F.col('addons'), ',')) == 1)\n",
    "\n",
    "df.show(6)\n"
   ]
  },
  {
   "cell_type": "code",
   "execution_count": 143,
   "metadata": {},
   "outputs": [
    {
     "name": "stdout",
     "output_type": "stream",
     "text": [
      "+------+--------------+---------------+\n",
      "|gender|unit_pirce_dif|total_pirce_dif|\n",
      "+------+--------------+---------------+\n",
      "|  Male|    1015.11005|       11374.84|\n",
      "|Female|       1014.99|      10741.601|\n",
      "+------+--------------+---------------+\n",
      "\n"
     ]
    }
   ],
   "source": [
    "df.groupBy(\"gender\")\\\n",
    ".agg(\n",
    "    (F.max(\"unit_price\") - F.min(\"unit_price\")).alias(\"unit_pirce_dif\"),\n",
    "    (F.max(\"total_price\") - F.min(\"total_price\")).alias(\"total_pirce_dif\")\n",
    ").show()\n"
   ]
  },
  {
   "cell_type": "code",
   "execution_count": 144,
   "metadata": {},
   "outputs": [
    {
     "name": "stdout",
     "output_type": "stream",
     "text": [
      "+---+--------------+---------------+\n",
      "|age|unit_pirce_dif|total_pirce_dif|\n",
      "+---+--------------+---------------+\n",
      "| 19|        208.13|        6506.31|\n",
      "| 20|        950.02|        9512.53|\n",
      "| 21|        959.83|      8043.6797|\n",
      "| 22|         925.7|        8398.29|\n",
      "| 23|     994.89996|       10353.96|\n",
      "| 24|     817.80994|         8870.5|\n",
      "| 25|        909.15|        7423.88|\n",
      "| 26|        960.39|        8046.99|\n",
      "| 27|        968.24|      5952.8896|\n",
      "| 28|     881.80994|        7913.52|\n",
      "| 29|     802.47003|        6004.44|\n",
      "| 30|    1002.94006|        6220.28|\n",
      "| 31|        914.87|      7761.2397|\n",
      "| 32|        978.87|       9138.069|\n",
      "| 33|     975.69995|        5403.81|\n",
      "| 34|         870.9|        6496.31|\n",
      "| 35|        987.95|        8250.41|\n",
      "| 36|     947.42993|       10653.34|\n",
      "| 37|      989.2399|      11063.149|\n",
      "| 38|    1012.79004|        9304.54|\n",
      "| 39|        935.21|        6650.85|\n",
      "| 40|     958.97003|        9449.84|\n",
      "| 41|     987.63007|      6998.9697|\n",
      "| 42|        887.38|        8852.94|\n",
      "| 43|        936.07|         2567.4|\n",
      "| 44|       1003.75|        7787.95|\n",
      "| 45|     990.63007|        7249.42|\n",
      "| 46|     946.69995|      5500.8003|\n",
      "| 47|        780.47|      11233.319|\n",
      "| 48|     944.80994|        8411.53|\n",
      "| 49|     980.20996|      10810.881|\n",
      "| 50|        902.56|        5520.47|\n",
      "| 51|    1009.10004|         8389.3|\n",
      "| 52|       1006.99|       11309.09|\n",
      "| 53|         727.4|      6643.0103|\n",
      "| 54|        692.49|        6721.48|\n",
      "| 55|    1007.92004|       11218.28|\n",
      "| 56|      931.9501|       11355.05|\n",
      "| 57|        939.67|      6578.4805|\n",
      "| 58|    1007.57996|      10562.119|\n",
      "| 59|     822.87006|        7046.15|\n",
      "| 60|    1001.47003|       11373.99|\n",
      "| 61|      999.8901|       9889.069|\n",
      "| 62|     975.08997|       10205.47|\n",
      "| 63|     969.47003|        7571.98|\n",
      "| 64|    1009.62994|        9127.83|\n",
      "| 65|        993.09|        6792.81|\n",
      "| 66|        998.79|        9454.37|\n",
      "| 67|        972.03|        7131.18|\n",
      "| 68|        996.71|       10048.17|\n",
      "| 69|    1000.18994|       10248.35|\n",
      "| 70|     878.05994|        8112.11|\n",
      "| 71|     930.95996|        11131.8|\n",
      "| 72|     986.54004|        10880.1|\n",
      "| 73|        753.18|        9297.95|\n",
      "| 74|        905.54|        8002.98|\n",
      "| 75|     963.42004|        8547.89|\n",
      "| 76|     969.24005|       10656.95|\n",
      "| 77|       1002.99|        6488.16|\n",
      "| 78|     553.32007|        5375.71|\n",
      "| 79|     953.80005|        8484.03|\n",
      "| 80|     849.47003|      3659.0398|\n",
      "+---+--------------+---------------+\n",
      "\n"
     ]
    }
   ],
   "source": [
    "df.groupBy(\"age\")\\\n",
    ".agg(\n",
    "    (F.max(\"unit_price\") - F.min(\"unit_price\")).alias(\"unit_pirce_dif\"),\n",
    "    (F.max(\"total_price\") - F.min(\"total_price\")).alias(\"total_pirce_dif\")\n",
    ")\\\n",
    ".sort(F.asc(\"age\"))\\\n",
    ".show(100)\n"
   ]
  },
  {
   "cell_type": "code",
   "execution_count": 145,
   "metadata": {},
   "outputs": [
    {
     "name": "stdout",
     "output_type": "stream",
     "text": [
      "+---+------+--------------+---------------+\n",
      "|age|gender|unit_pirce_dif|total_pirce_dif|\n",
      "+---+------+--------------+---------------+\n",
      "| 19|Female|        208.13|      5245.4004|\n",
      "| 19|  Male|         112.5|        6506.31|\n",
      "| 20|Female|     908.81995|        9512.53|\n",
      "| 20|  Male|     269.27002|        3729.55|\n",
      "| 21|  Male|     925.62006|        5303.55|\n",
      "| 21|Female|     372.84998|        6107.91|\n",
      "| 22|  Male|        812.39|       577.1201|\n",
      "| 22|Female|         925.7|        8398.29|\n",
      "| 23|Female|      711.6499|        6685.51|\n",
      "| 23|  Male|     993.24005|       10017.35|\n",
      "| 24|  Male|         767.1|        6367.75|\n",
      "| 24|Female|     803.41003|         8870.5|\n",
      "| 25|  Male|     859.98004|        6842.95|\n",
      "| 25|Female|        909.15|        7423.88|\n",
      "| 26|Female|     299.46997|      5998.2803|\n",
      "| 26|  Male|        960.39|      7849.9795|\n",
      "| 27|Female|     934.07007|      5952.8896|\n",
      "| 27|  Male|     843.18994|        3275.03|\n",
      "| 28|  Male|        844.48|        7761.63|\n",
      "| 28|Female|     881.64996|        7691.21|\n",
      "+---+------+--------------+---------------+\n",
      "only showing top 20 rows\n",
      "\n"
     ]
    }
   ],
   "source": [
    "aggr_data = df.groupBy(\"age\",\n",
    "\"gender\",\n",
    ")\\\n",
    ".agg(\n",
    "    (F.max(\"unit_price\") - F.min(\"unit_price\")).alias(\"unit_pirce_dif\"),\n",
    "    (F.max(\"total_price\") - F.min(\"total_price\")).alias(\"total_pirce_dif\")\n",
    ")\\\n",
    ".sort(F.asc(\"age\"))\n",
    "aggr_data.show()\n"
   ]
  },
  {
   "cell_type": "code",
   "execution_count": 146,
   "metadata": {},
   "outputs": [
    {
     "name": "stdout",
     "output_type": "stream",
     "text": [
      "Row(age=19, gender='Female', unit_pirce_dif=208.1300048828125, total_pirce_dif=5245.400390625)\n",
      "Row(age=19, gender='Male', unit_pirce_dif=112.5, total_pirce_dif=6506.31005859375)\n",
      "Row(age=20, gender='Female', unit_pirce_dif=908.8199462890625, total_pirce_dif=9512.5302734375)\n",
      "Row(age=20, gender='Male', unit_pirce_dif=269.27001953125, total_pirce_dif=3729.550048828125)\n",
      "Row(age=21, gender='Male', unit_pirce_dif=925.6200561523438, total_pirce_dif=5303.5498046875)\n",
      "Row(age=21, gender='Female', unit_pirce_dif=372.8499755859375, total_pirce_dif=6107.91015625)\n",
      "Row(age=22, gender='Male', unit_pirce_dif=812.3900146484375, total_pirce_dif=577.1201171875)\n",
      "Row(age=22, gender='Female', unit_pirce_dif=925.7000122070312, total_pirce_dif=8398.2900390625)\n",
      "Row(age=23, gender='Female', unit_pirce_dif=711.64990234375, total_pirce_dif=6685.509765625)\n",
      "Row(age=23, gender='Male', unit_pirce_dif=993.2400512695312, total_pirce_dif=10017.349609375)\n",
      "Row(age=24, gender='Male', unit_pirce_dif=767.0999755859375, total_pirce_dif=6367.75)\n",
      "Row(age=24, gender='Female', unit_pirce_dif=803.4100341796875, total_pirce_dif=8870.5)\n",
      "Row(age=25, gender='Male', unit_pirce_dif=859.9800415039062, total_pirce_dif=6842.9501953125)\n",
      "Row(age=25, gender='Female', unit_pirce_dif=909.1500244140625, total_pirce_dif=7423.8798828125)\n",
      "Row(age=26, gender='Female', unit_pirce_dif=299.469970703125, total_pirce_dif=5998.2802734375)\n",
      "Row(age=26, gender='Male', unit_pirce_dif=960.3900146484375, total_pirce_dif=7849.9794921875)\n",
      "Row(age=27, gender='Female', unit_pirce_dif=934.070068359375, total_pirce_dif=5952.8896484375)\n",
      "Row(age=27, gender='Male', unit_pirce_dif=843.18994140625, total_pirce_dif=3275.030029296875)\n",
      "Row(age=28, gender='Male', unit_pirce_dif=844.47998046875, total_pirce_dif=7761.6298828125)\n",
      "Row(age=28, gender='Female', unit_pirce_dif=881.6499633789062, total_pirce_dif=7691.2099609375)\n",
      "Row(age=29, gender='Male', unit_pirce_dif=802.4700317382812, total_pirce_dif=6004.43994140625)\n",
      "Row(age=29, gender='Female', unit_pirce_dif=305.0699462890625, total_pirce_dif=3561.7900390625)\n",
      "Row(age=30, gender='Female', unit_pirce_dif=1002.9400634765625, total_pirce_dif=6220.27978515625)\n",
      "Row(age=30, gender='Male', unit_pirce_dif=771.9800415039062, total_pirce_dif=2279.2099609375)\n",
      "Row(age=31, gender='Male', unit_pirce_dif=791.1800537109375, total_pirce_dif=7067.93994140625)\n",
      "Row(age=31, gender='Female', unit_pirce_dif=556.8099975585938, total_pirce_dif=1883.659912109375)\n",
      "Row(age=32, gender='Female', unit_pirce_dif=54.78997802734375, total_pirce_dif=2337.849853515625)\n",
      "Row(age=32, gender='Male', unit_pirce_dif=978.8699951171875, total_pirce_dif=9138.0693359375)\n",
      "Row(age=33, gender='Male', unit_pirce_dif=511.1099853515625, total_pirce_dif=4834.509765625)\n",
      "Row(age=33, gender='Female', unit_pirce_dif=678.5999755859375, total_pirce_dif=2067.14013671875)\n",
      "Row(age=34, gender='Female', unit_pirce_dif=870.9000244140625, total_pirce_dif=6496.31005859375)\n",
      "Row(age=34, gender='Male', unit_pirce_dif=485.91998291015625, total_pirce_dif=1401.7197265625)\n",
      "Row(age=35, gender='Female', unit_pirce_dif=752.0599365234375, total_pirce_dif=8250.41015625)\n",
      "Row(age=35, gender='Male', unit_pirce_dif=987.9500122070312, total_pirce_dif=7104.22021484375)\n",
      "Row(age=36, gender='Male', unit_pirce_dif=837.739990234375, total_pirce_dif=10566.4306640625)\n",
      "Row(age=36, gender='Female', unit_pirce_dif=722.0599975585938, total_pirce_dif=4838.52001953125)\n",
      "Row(age=37, gender='Female', unit_pirce_dif=988.2900390625, total_pirce_dif=7823.57958984375)\n",
      "Row(age=37, gender='Male', unit_pirce_dif=989.2399291992188, total_pirce_dif=11063.1494140625)\n",
      "Row(age=38, gender='Male', unit_pirce_dif=1012.7900390625, total_pirce_dif=9304.5400390625)\n",
      "Row(age=38, gender='Female', unit_pirce_dif=505.55999755859375, total_pirce_dif=2968.179931640625)\n",
      "Row(age=39, gender='Male', unit_pirce_dif=785.3399658203125, total_pirce_dif=5529.7900390625)\n",
      "Row(age=39, gender='Female', unit_pirce_dif=935.2100219726562, total_pirce_dif=6411.8603515625)\n",
      "Row(age=40, gender='Male', unit_pirce_dif=627.1399536132812, total_pirce_dif=2249.25)\n",
      "Row(age=40, gender='Female', unit_pirce_dif=958.9700317382812, total_pirce_dif=9449.83984375)\n",
      "Row(age=41, gender='Male', unit_pirce_dif=348.3800048828125, total_pirce_dif=4825.490234375)\n",
      "Row(age=41, gender='Female', unit_pirce_dif=987.6300659179688, total_pirce_dif=6998.9697265625)\n",
      "Row(age=42, gender='Male', unit_pirce_dif=887.3800048828125, total_pirce_dif=8852.9404296875)\n",
      "Row(age=42, gender='Female', unit_pirce_dif=666.6499633789062, total_pirce_dif=6349.490234375)\n",
      "Row(age=43, gender='Female', unit_pirce_dif=711.3400268554688, total_pirce_dif=1517.6500244140625)\n",
      "Row(age=43, gender='Male', unit_pirce_dif=875.3699951171875, total_pirce_dif=2567.39990234375)\n",
      "Row(age=44, gender='Male', unit_pirce_dif=1003.75, total_pirce_dif=7172.31005859375)\n",
      "Row(age=44, gender='Female', unit_pirce_dif=736.3999633789062, total_pirce_dif=7378.669921875)\n",
      "Row(age=45, gender='Male', unit_pirce_dif=901.8200073242188, total_pirce_dif=7249.419921875)\n",
      "Row(age=45, gender='Female', unit_pirce_dif=799.070068359375, total_pirce_dif=5792.47998046875)\n",
      "Row(age=46, gender='Female', unit_pirce_dif=596.3599853515625, total_pirce_dif=3421.91015625)\n",
      "Row(age=46, gender='Male', unit_pirce_dif=946.699951171875, total_pirce_dif=5500.80029296875)\n",
      "Row(age=47, gender='Male', unit_pirce_dif=779.9899291992188, total_pirce_dif=11233.3193359375)\n",
      "Row(age=47, gender='Female', unit_pirce_dif=651.43994140625, total_pirce_dif=6053.91015625)\n",
      "Row(age=48, gender='Male', unit_pirce_dif=944.8099365234375, total_pirce_dif=8101.2802734375)\n",
      "Row(age=48, gender='Female', unit_pirce_dif=844.8299560546875, total_pirce_dif=8411.5302734375)\n",
      "Row(age=49, gender='Female', unit_pirce_dif=979.02001953125, total_pirce_dif=7201.94970703125)\n",
      "Row(age=49, gender='Male', unit_pirce_dif=786.0899658203125, total_pirce_dif=10226.0)\n",
      "Row(age=50, gender='Female', unit_pirce_dif=495.1600036621094, total_pirce_dif=5520.47021484375)\n",
      "Row(age=50, gender='Male', unit_pirce_dif=902.5599975585938, total_pirce_dif=5229.740234375)\n",
      "Row(age=51, gender='Female', unit_pirce_dif=1009.1000366210938, total_pirce_dif=8389.2998046875)\n",
      "Row(age=51, gender='Male', unit_pirce_dif=903.7200317382812, total_pirce_dif=3847.619873046875)\n",
      "Row(age=52, gender='Male', unit_pirce_dif=1006.989990234375, total_pirce_dif=11309.08984375)\n",
      "Row(age=52, gender='Female', unit_pirce_dif=972.489990234375, total_pirce_dif=9981.5)\n",
      "Row(age=53, gender='Female', unit_pirce_dif=727.4000244140625, total_pirce_dif=6127.60009765625)\n",
      "Row(age=53, gender='Male', unit_pirce_dif=691.6700439453125, total_pirce_dif=5300.150390625)\n",
      "Row(age=54, gender='Male', unit_pirce_dif=594.449951171875, total_pirce_dif=3472.249755859375)\n",
      "Row(age=54, gender='Female', unit_pirce_dif=692.489990234375, total_pirce_dif=6382.89990234375)\n",
      "Row(age=55, gender='Female', unit_pirce_dif=848.760009765625, total_pirce_dif=5207.3701171875)\n",
      "Row(age=55, gender='Male', unit_pirce_dif=794.2400512695312, total_pirce_dif=10376.2001953125)\n",
      "Row(age=56, gender='Female', unit_pirce_dif=676.1800537109375, total_pirce_dif=5651.7001953125)\n",
      "Row(age=56, gender='Male', unit_pirce_dif=880.840087890625, total_pirce_dif=11355.0498046875)\n",
      "Row(age=57, gender='Male', unit_pirce_dif=939.6699829101562, total_pirce_dif=6481.7900390625)\n",
      "Row(age=57, gender='Female', unit_pirce_dif=344.3800048828125, total_pirce_dif=4429.9599609375)\n",
      "Row(age=58, gender='Female', unit_pirce_dif=999.5, total_pirce_dif=10123.7294921875)\n",
      "Row(age=58, gender='Male', unit_pirce_dif=985.429931640625, total_pirce_dif=10359.2197265625)\n",
      "Row(age=59, gender='Male', unit_pirce_dif=822.8700561523438, total_pirce_dif=7046.14990234375)\n",
      "Row(age=59, gender='Female', unit_pirce_dif=0.0, total_pirce_dif=0.0)\n",
      "Row(age=60, gender='Female', unit_pirce_dif=850.7099609375, total_pirce_dif=4835.19970703125)\n",
      "Row(age=60, gender='Male', unit_pirce_dif=995.1300659179688, total_pirce_dif=11373.990234375)\n",
      "Row(age=61, gender='Male', unit_pirce_dif=986.6000366210938, total_pirce_dif=9402.8701171875)\n",
      "Row(age=61, gender='Female', unit_pirce_dif=916.6900024414062, total_pirce_dif=6157.490234375)\n",
      "Row(age=62, gender='Female', unit_pirce_dif=818.6400146484375, total_pirce_dif=5077.0302734375)\n",
      "Row(age=62, gender='Male', unit_pirce_dif=956.8399658203125, total_pirce_dif=9992.91015625)\n",
      "Row(age=63, gender='Male', unit_pirce_dif=921.3899536132812, total_pirce_dif=5399.88037109375)\n",
      "Row(age=63, gender='Female', unit_pirce_dif=249.4000244140625, total_pirce_dif=5293.419921875)\n",
      "Row(age=64, gender='Male', unit_pirce_dif=988.8099975585938, total_pirce_dif=9127.830078125)\n",
      "Row(age=64, gender='Female', unit_pirce_dif=592.8499145507812, total_pirce_dif=7009.080078125)\n",
      "Row(age=65, gender='Female', unit_pirce_dif=993.0900268554688, total_pirce_dif=6348.18017578125)\n",
      "Row(age=65, gender='Male', unit_pirce_dif=937.1400146484375, total_pirce_dif=6251.3798828125)\n",
      "Row(age=66, gender='Male', unit_pirce_dif=985.449951171875, total_pirce_dif=9454.3701171875)\n",
      "Row(age=66, gender='Female', unit_pirce_dif=998.7899780273438, total_pirce_dif=8238.560546875)\n",
      "Row(age=67, gender='Female', unit_pirce_dif=925.219970703125, total_pirce_dif=6456.5)\n",
      "Row(age=67, gender='Male', unit_pirce_dif=972.030029296875, total_pirce_dif=6070.9501953125)\n",
      "Row(age=68, gender='Male', unit_pirce_dif=909.280029296875, total_pirce_dif=6483.93994140625)\n",
      "Row(age=68, gender='Female', unit_pirce_dif=996.7100219726562, total_pirce_dif=9997.7802734375)\n",
      "Row(age=69, gender='Female', unit_pirce_dif=763.97998046875, total_pirce_dif=3943.599853515625)\n",
      "Row(age=69, gender='Male', unit_pirce_dif=1000.18994140625, total_pirce_dif=10203.2001953125)\n",
      "Row(age=70, gender='Male', unit_pirce_dif=738.5899658203125, total_pirce_dif=8052.07958984375)\n",
      "Row(age=70, gender='Female', unit_pirce_dif=763.8599853515625, total_pirce_dif=7484.9501953125)\n",
      "Row(age=71, gender='Female', unit_pirce_dif=898.52001953125, total_pirce_dif=8405.240234375)\n",
      "Row(age=71, gender='Male', unit_pirce_dif=886.760009765625, total_pirce_dif=10155.5)\n",
      "Row(age=72, gender='Male', unit_pirce_dif=983.9700317382812, total_pirce_dif=10740.6298828125)\n",
      "Row(age=72, gender='Female', unit_pirce_dif=981.6199951171875, total_pirce_dif=6189.6796875)\n",
      "Row(age=73, gender='Female', unit_pirce_dif=753.1799926757812, total_pirce_dif=8888.8505859375)\n",
      "Row(age=73, gender='Male', unit_pirce_dif=289.739990234375, total_pirce_dif=5546.81982421875)\n",
      "Row(age=74, gender='Male', unit_pirce_dif=905.5399780273438, total_pirce_dif=8002.97998046875)\n",
      "Row(age=74, gender='Female', unit_pirce_dif=592.60009765625, total_pirce_dif=5174.66015625)\n",
      "Row(age=75, gender='Female', unit_pirce_dif=869.75, total_pirce_dif=8547.8896484375)\n",
      "Row(age=75, gender='Male', unit_pirce_dif=916.4000244140625, total_pirce_dif=4125.7802734375)\n",
      "Row(age=76, gender='Male', unit_pirce_dif=969.2400512695312, total_pirce_dif=8231.3994140625)\n",
      "Row(age=76, gender='Female', unit_pirce_dif=785.1000366210938, total_pirce_dif=10247.060546875)\n",
      "Row(age=77, gender='Female', unit_pirce_dif=964.22998046875, total_pirce_dif=5057.97021484375)\n",
      "Row(age=77, gender='Male', unit_pirce_dif=1002.0900268554688, total_pirce_dif=6488.16015625)\n",
      "Row(age=78, gender='Male', unit_pirce_dif=72.56005859375, total_pirce_dif=4258.7197265625)\n",
      "Row(age=78, gender='Female', unit_pirce_dif=155.38998413085938, total_pirce_dif=2096.580078125)\n",
      "Row(age=79, gender='Male', unit_pirce_dif=953.800048828125, total_pirce_dif=4306.02001953125)\n",
      "Row(age=79, gender='Female', unit_pirce_dif=489.38995361328125, total_pirce_dif=7401.2900390625)\n",
      "Row(age=80, gender='Male', unit_pirce_dif=849.4700317382812, total_pirce_dif=3659.039794921875)\n",
      "Row(age=80, gender='Female', unit_pirce_dif=0.0, total_pirce_dif=0.0)\n"
     ]
    }
   ],
   "source": [
    "collected_data = aggr_data.collect()\n",
    "for row in collected_data:\n",
    "    print(row)"
   ]
  },
  {
   "cell_type": "markdown",
   "metadata": {},
   "source": [
    "# Измерение скорости"
   ]
  },
  {
   "cell_type": "markdown",
   "metadata": {},
   "source": [
    "### No cache"
   ]
  },
  {
   "cell_type": "code",
   "execution_count": null,
   "metadata": {},
   "outputs": [
    {
     "name": "stdout",
     "output_type": "stream",
     "text": [
      "0.05283808708190918 секунд\n"
     ]
    },
    {
     "data": {
      "text/plain": [
       "DataFrame[customer_id: int, age: int, gender: string, loyalty_member: string, product_type: string, sku: string, rating: int, order_status: string, payment_method: string, total_price: float, unit_price: float, quantity: int, purchase_date: date, shipping_type: string, addons: string, addons_cnt: float]"
      ]
     },
     "execution_count": 156,
     "metadata": {},
     "output_type": "execute_result"
    }
   ],
   "source": [
    "import time\n",
    "def speed_test(func):\n",
    "    def wrapps(*args, **kwargs):\n",
    "        start_time = time.time()\n",
    "        func(*args, **kwargs)\n",
    "        print(str(\"%s секунд\" % (time.time() - start_time)))\n",
    "        return \n",
    "    return wrapps\n",
    "@speed_test\n",
    "def spark_test_aggregration(df):\n",
    "    df = df\\\n",
    "        .filter(F.col('purchase_date') == '2024-09-03') \\\n",
    "        .filter(F.size(F.split(F.col('addons'), ',')) == 1)\n",
    "    aggr_df = df.groupBy('gender', 'age') \\\n",
    "    .agg(\n",
    "        (F.max('unit_price') - F.min('unit_price')).alias('price_diff'),\n",
    "        (F.max('total_price') - F.min('total_price')).alias('order_price_diff')\n",
    "    )\n",
    "    # aggr_df.show(5)\n",
    "    return aggr_df\n",
    "spark_test_aggregration(spark_df)\n",
    "df.unpersist()\n"
   ]
  },
  {
   "cell_type": "markdown",
   "metadata": {},
   "source": [
    "### Cached"
   ]
  },
  {
   "cell_type": "code",
   "execution_count": null,
   "metadata": {},
   "outputs": [
    {
     "name": "stdout",
     "output_type": "stream",
     "text": [
      "0.04671454429626465 секунд\n"
     ]
    },
    {
     "data": {
      "text/plain": [
       "DataFrame[customer_id: int, age: int, gender: string, loyalty_member: string, product_type: string, sku: string, rating: int, order_status: string, payment_method: string, total_price: float, unit_price: float, quantity: int, purchase_date: date, shipping_type: string, addons: string, addons_cnt: float]"
      ]
     },
     "execution_count": 157,
     "metadata": {},
     "output_type": "execute_result"
    }
   ],
   "source": [
    "spark_df.cache()\n",
    "spark_test_aggregration(spark_df)\n",
    "spark_df.unpersist()\n"
   ]
  },
  {
   "cell_type": "code",
   "execution_count": null,
   "metadata": {},
   "outputs": [
    {
     "name": "stdout",
     "output_type": "stream",
     "text": [
      "0.02849102020263672 секунд\n"
     ]
    },
    {
     "data": {
      "text/plain": [
       "DataFrame[customer_id: int, age: int, gender: string, loyalty_member: string, product_type: string, sku: string, rating: int, order_status: string, payment_method: string, total_price: float, unit_price: float, quantity: int, purchase_date: date, shipping_type: string, addons: string, addons_cnt: float]"
      ]
     },
     "execution_count": 158,
     "metadata": {},
     "output_type": "execute_result"
    }
   ],
   "source": [
    "from pyspark import StorageLevel\n",
    "spark_df.persist(StorageLevel.MEMORY_AND_DISK)\n",
    "spark_df.count()\n",
    "spark_test_aggregration(spark_df)\n",
    "spark_df.unpersist()"
   ]
  },
  {
   "cell_type": "markdown",
   "metadata": {},
   "source": [
    "### Checkpoint"
   ]
  },
  {
   "cell_type": "code",
   "execution_count": null,
   "metadata": {},
   "outputs": [],
   "source": [
    "# Set checkpoint directory\n",
    "spark.sparkContext.setCheckpointDir(\"checkpoints/\")"
   ]
  },
  {
   "cell_type": "code",
   "execution_count": null,
   "metadata": {},
   "outputs": [],
   "source": [
    "spark_df.checkpoint()\n",
    "spark_test_aggregration(spark_df)"
   ]
  }
 ],
 "metadata": {
  "kernelspec": {
   "display_name": "Python 3 (ipykernel)",
   "language": "python",
   "name": "python3"
  },
  "language_info": {
   "codemirror_mode": {
    "name": "ipython",
    "version": 3
   },
   "file_extension": ".py",
   "mimetype": "text/x-python",
   "name": "python",
   "nbconvert_exporter": "python",
   "pygments_lexer": "ipython3",
   "version": "3.12.7"
  }
 },
 "nbformat": 4,
 "nbformat_minor": 4
}
