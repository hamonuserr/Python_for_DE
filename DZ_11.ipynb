{
  "metadata": {
    "kernelspec": {
      "name": "python",
      "display_name": "Python (Pyodide)",
      "language": "python"
    },
    "language_info": {
      "name": ""
    }
  },
  "nbformat_minor": 4,
  "nbformat": 4,
  "cells": [
    {
      "cell_type": "code",
      "source": "import pandas as pd\n\npath = '/Users/'\ndistrict_to_city = pd.read_csv(path + 'district_to_city.csv')\ncity_weather = pd.read_csv(path + 'city_weather.csv')\ncity_weather['average_temperature'] = (city_weather['day_temperatre'] + city_weather['night_temperature']) / 2\naverage_city_weather = city_weather.groupby('city')['average_temperature'].mean().reset_index()\nmerged_data = pd.merge(average_city_weather, district_to_city, on='city')\naverage_district_weather = merged_data.groupby('federal_district')['average_temperature'].mean().reset_index()\naverage_district_weather.rename(columns={'average_temperature': 'average_district_temperature'}, inplace=True)\nfinal_data = pd.merge(merged_data, average_district_weather, on='federal_district')\nfinal_data['temperature_difference'] = final_data['average_temperature'] - final_data['average_district_temperature']\nfinal_data[['city', 'average_temperature', 'federal_district', 'average_district_temperature', 'temperature_difference']]",
      "metadata": {
        "trusted": true
      },
      "outputs": [],
      "execution_count": null
    }
  ]
}