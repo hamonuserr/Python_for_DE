{
 "cells": [
  {
   "cell_type": "code",
   "execution_count": 169,
   "id": "029474cd-615f-432f-b741-446509f4eec3",
   "metadata": {},
   "outputs": [],
   "source": [
    "from pyspark.sql import SparkSession, DataFrame\n",
    "from pyspark.sql.types import StringType, StructType, IntegerType, DateType, StructField\n",
    "from pyspark.sql.functions import lower, explode, regexp_replace, split, col"
   ]
  },
  {
   "cell_type": "code",
   "execution_count": 171,
   "id": "ee3b89fa-ad21-48d5-ab6b-eb530b47e347",
   "metadata": {},
   "outputs": [],
   "source": [
    "spark = SparkSession.builder \\\n",
    "    .appName(\"Some movies..\") \\\n",
    "    .getOrCreate()"
   ]
  },
  {
   "cell_type": "code",
   "execution_count": 173,
   "id": "7a761a69-4550-4d52-bbf4-4d42ebcc4ec1",
   "metadata": {},
   "outputs": [],
   "source": [
    "path = \"C:/Users/VO7/Downloads/movies.csv\""
   ]
  },
  {
   "cell_type": "code",
   "execution_count": 175,
   "id": "4e38a48a-a095-40b2-9499-3c6c9333eacb",
   "metadata": {},
   "outputs": [],
   "source": [
    "df = spark.read.csv(path, header = True)"
   ]
  },
  {
   "cell_type": "code",
   "execution_count": 177,
   "id": "38a84d97-d37b-4460-bce4-2aa3d6629a67",
   "metadata": {},
   "outputs": [
    {
     "name": "stdout",
     "output_type": "stream",
     "text": [
      "+-----------------------------------+---------+---------------------+----------------+-------------+-----------------+---------------+----+\n",
      "|                               Film|    Genre|          Lead Studio|Audience score %|Profitability|Rotten Tomatoes %|Worldwide Gross|Year|\n",
      "+-----------------------------------+---------+---------------------+----------------+-------------+-----------------+---------------+----+\n",
      "|         Zack and Miri Make a Porno|  Romance|The Weinstein Company|              70|  1.747541667|               64|        $41.94 |2008|\n",
      "|                    Youth in Revolt|   Comedy|The Weinstein Company|              52|         1.09|               68|        $19.62 |2010|\n",
      "| You Will Meet a Tall Dark Stranger|   Comedy|          Independent|              35|  1.211818182|               43|        $26.66 |2010|\n",
      "|                       When in Rome|   Comedy|               Disney|              44|            0|               15|        $43.04 |2010|\n",
      "|              What Happens in Vegas|   Comedy|                  Fox|              72|  6.267647029|               28|       $219.37 |2008|\n",
      "|                Water For Elephants|    Drama|     20th Century Fox|              72|  3.081421053|               60|       $117.09 |2011|\n",
      "|                             WALL-E|Animation|               Disney|              89|  2.896019067|               96|       $521.28 |2008|\n",
      "|                           Waitress|  Romance|          Independent|              67|   11.0897415|               89|        $22.18 |2007|\n",
      "|                Waiting For Forever|  Romance|          Independent|              53|        0.005|                6|         $0.03 |2011|\n",
      "|                    Valentine's Day|   Comedy|         Warner Bros.|              54|  4.184038462|               17|       $217.57 |2010|\n",
      "|Tyler Perry's Why Did I get Married|  Romance|          Independent|              47|    3.7241924|               46|        $55.86 |2007|\n",
      "|            Twilight: Breaking Dawn|  Romance|          Independent|              68|  6.383363636|               26|       $702.17 |2011|\n",
      "|                           Twilight|  Romance|               Summit|              82|  10.18002703|               49|       $376.66 |2008|\n",
      "|                     The Ugly Truth|   Comedy|          Independent|              68|  5.402631579|               14|       $205.30 |2009|\n",
      "|        The Twilight Saga: New Moon|    Drama|               Summit|              78|      14.1964|               27|       $709.82 |2009|\n",
      "|           The Time Traveler's Wife|    Drama|            Paramount|              65|  2.598205128|               38|       $101.33 |2009|\n",
      "|                       The Proposal|   Comedy|               Disney|              74|       7.8675|               43|       $314.70 |2009|\n",
      "|             The Invention of Lying|   Comedy|         Warner Bros.|              47|  1.751351351|               56|        $32.40 |2009|\n",
      "|                 The Heartbreak Kid|   Comedy|            Paramount|              41|  2.129444167|               30|       $127.77 |2007|\n",
      "|                        The Duchess|    Drama|            Paramount|              68|  3.207850222|               60|        $43.31 |2008|\n",
      "+-----------------------------------+---------+---------------------+----------------+-------------+-----------------+---------------+----+\n",
      "only showing top 20 rows\n",
      "\n"
     ]
    }
   ],
   "source": [
    "df.show(20, 50)"
   ]
  },
  {
   "cell_type": "code",
   "execution_count": 179,
   "id": "28f75c11-fe7a-410c-b63f-9b7102c5ae33",
   "metadata": {},
   "outputs": [],
   "source": [
    "words = df.select(explode(split(regexp_replace(lower(col(\"Film\")), r\"[^a-zA-Z0-9\\s]\", \"\"), r\"\\s+\")).alias(\"word\"))"
   ]
  },
  {
   "cell_type": "code",
   "execution_count": 181,
   "id": "5d3648ec-b657-4817-acff-74df8d07c48e",
   "metadata": {},
   "outputs": [],
   "source": [
    "filter_words = set([\"the\", \"and\", \"a\", \"of\", \"to\", \"in\", \"is\", \"it\", \"you\", \"that\", \"for\", \"on\", \"with\", \"as\", \"this\", \"by\"])"
   ]
  },
  {
   "cell_type": "code",
   "execution_count": 183,
   "id": "ddd448c4-d0bd-4572-8524-96851803738e",
   "metadata": {},
   "outputs": [],
   "source": [
    "filtered_words_df = words.filter(~col(\"word\").isin(filter_words)) "
   ]
  },
  {
   "cell_type": "code",
   "execution_count": 185,
   "id": "4bd62ed9-c451-43b4-a41d-a3a861b66592",
   "metadata": {},
   "outputs": [],
   "source": [
    "word_counts = filtered_words_df.groupBy(\"word\").count()"
   ]
  },
  {
   "cell_type": "code",
   "execution_count": 187,
   "id": "345cbc55-a14d-4b19-893b-da594951a5f5",
   "metadata": {},
   "outputs": [],
   "source": [
    "most_common_word = word_counts.orderBy(col(\"count\").desc()).first()"
   ]
  },
  {
   "cell_type": "code",
   "execution_count": 191,
   "id": "8e75ad69-ef34-4041-88ac-154325ee9575",
   "metadata": {},
   "outputs": [
    {
     "name": "stdout",
     "output_type": "stream",
     "text": [
      "Самое частое слово: 'love', которое встречается 4 раз).\n"
     ]
    }
   ],
   "source": [
    "if most_common_word:\n",
    "    print(f\"Самое частое слово: '{most_common_word['word']}', которое встречается {most_common_word['count']} раз).\")\n",
    "else:\n",
    "    print(\"Не найдено ни одного слова после фильтрации.\")\n"
   ]
  },
  {
   "cell_type": "code",
   "execution_count": 193,
   "id": "64315a8c-b6d5-457b-941d-8a4dde308b0d",
   "metadata": {},
   "outputs": [],
   "source": [
    "spark.stop()"
   ]
  },
  {
   "cell_type": "code",
   "execution_count": null,
   "id": "df148c96-90d2-4027-833d-e25b80d4dd0d",
   "metadata": {},
   "outputs": [],
   "source": []
  }
 ],
 "metadata": {
  "kernelspec": {
   "display_name": "Python 3 (ipykernel)",
   "language": "python",
   "name": "python3"
  },
  "language_info": {
   "codemirror_mode": {
    "name": "ipython",
    "version": 3
   },
   "file_extension": ".py",
   "mimetype": "text/x-python",
   "name": "python",
   "nbconvert_exporter": "python",
   "pygments_lexer": "ipython3",
   "version": "3.12.7"
  }
 },
 "nbformat": 4,
 "nbformat_minor": 5
}
